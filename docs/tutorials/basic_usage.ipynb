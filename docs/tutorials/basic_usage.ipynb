{
 "cells": [
  {
   "cell_type": "markdown",
   "metadata": {},
   "source": [
    "# Basic usage of the `chaotic_neutral` package\n",
    "\n",
    "This example notebook shows how to use the basic `galaxies_all` model trained on almost all ArXiv astro-ph.GA papers up to October 24, 2019. \n",
    "\n",
    "Users can query the model for similar papers using either \n",
    "- `input_type`: `arxiv_id` or `keywords` for the `doc_id` field. In the latter case, input a list of keyword strings.\n",
    "- `return_n`: controls how many results to return.\n",
    "\n",
    "Additional arguments include:\n",
    "- `show_authors` (default = False): set to True to show author list\n",
    "- `show_summary` (default = False): set to True to show a 1-2 sentence abstract summary generated using the `summa` package."
   ]
  },
  {
   "cell_type": "code",
   "execution_count": 1,
   "metadata": {},
   "outputs": [],
   "source": [
    "import chaotic_neural as cn"
   ]
  },
  {
   "cell_type": "markdown",
   "metadata": {},
   "source": [
    "If you are running this notebook on your machine from a cloned version of the repository and are using the pre-trained model that comes with chaotic_neutral, please make sure to \n",
    "1. either run this notebook in the same /docs/tutorial directory you find it in, or \n",
    "2. change the directory `cn_dir` in the cell below to match the directory that chaotic_neural is installed in"
   ]
  },
  {
   "cell_type": "code",
   "execution_count": 2,
   "metadata": {},
   "outputs": [],
   "source": [
    "model_data = cn.load_trained_doc2vec_model('galaxies_all', cn_dir = '../../chaotic_neural/')\n",
    "model, all_titles, all_abstracts, all_authors, train_corpus, test_corpus = model_data"
   ]
  },
  {
   "cell_type": "code",
   "execution_count": 3,
   "metadata": {},
   "outputs": [
    {
     "name": "stdout",
     "output_type": "stream",
     "text": [
      "ArXiv id:  1903.10457\n",
      "Title: Learning the Relationship between Galaxies Spectra and their Star\n",
      "  Formation Histories using Convolutional Neural Networks and Cosmological\n",
      "  Simulations\n",
      "-----------------------------\n",
      "Most similar/relevant papers: \n",
      "-----------------------------\n",
      "0 Learning the Relationship between Galaxies Spectra and their Star\n",
      "  Formation Histories using Convolutional Neural Networks and Cosmological\n",
      "  Simulations  (Corrcoef: 0.97 )\n",
      "1 A Sparse Gaussian Process Framework for Photometric Redshift Estimation  (Corrcoef: 0.71 )\n",
      "2 Improving Photometric Redshift Estimation using GPz: size information,\n",
      "  post processing and improved photometry  (Corrcoef: 0.68 )\n",
      "3 The Spatial Distribution of Satellite Galaxies Within Halos: Measuring\n",
      "  the Very Small Scale Angular Clustering of SDSS Galaxies  (Corrcoef: 0.68 )\n",
      "4 Photometric redshifts for the SDSS Data Release 12  (Corrcoef: 0.67 )\n",
      "5 The Data Analysis Pipeline for the SDSS-IV MaNGA IFU Galaxy Survey:\n",
      "  Emission-Line Modeling  (Corrcoef: 0.66 )\n",
      "6 Galaxy clustering dependence on the\n",
      "  $\\left[\\mathrm{O\\scriptsize{II}}\\right]$ emission line luminosity in the\n",
      "  local Universe  (Corrcoef: 0.66 )\n",
      "7 The ALHAMBRA survey: Accurate merger fractions by PDF analysis of\n",
      "  photometric close pairs  (Corrcoef: 0.66 )\n",
      "8 Automated Distant Galaxy Merger Classifications from Space Telescope\n",
      "  Images using the Illustris Simulation  (Corrcoef: 0.65 )\n",
      "9 Inferring the photometric and size evolution of galaxies from image\n",
      "  simulations  (Corrcoef: 0.65 )\n"
     ]
    }
   ],
   "source": [
    "sims = cn.list_similar_papers(model_data, doc_id = 1903.10457, input_type='arxiv_id')"
   ]
  },
  {
   "cell_type": "code",
   "execution_count": 4,
   "metadata": {},
   "outputs": [
    {
     "name": "stdout",
     "output_type": "stream",
     "text": [
      "Keyword(s):  ['simulation', 'sed', 'fitting']\n",
      "multi-keyword\n",
      "-----------------------------\n",
      "Most similar/relevant papers: \n",
      "-----------------------------\n",
      "0 Should we believe the results of UV-mm galaxy SED modelling?  (Corrcoef: 0.53 )\n",
      "Authors:------\n",
      "[{'name': 'Christopher C. Hayward'}, {'name': 'Daniel J. B. Smith'}]\n",
      "Summary:------\n",
      "We compare the properties inferred from the SED modelling with the true values and find that MAGPHYS recovers most physical parameters of the simulated galaxies well.\n",
      " \n",
      "1 Morphology-assisted galaxy mass-to-light predictions using deep learning  (Corrcoef: 0.47 )\n",
      "Authors:------\n",
      "[{'name': 'Wouter Dobbels'}, {'name': 'Serge Krier'}, {'name': 'Stephan Pirson'}, {'name': 'Sébastien Viaene'}, {'name': 'Gert De Geyter'}, {'name': 'Samir Salim'}, {'name': 'Maarten Baes'}]\n",
      "Summary:------\n",
      "Spectral energy distribution (SED) fitting can make use of all available fluxes and their errors to make a Bayesian estimate of the M/L.\n",
      "When we combine the morphology features with global g- and i-band luminosities, we find an improved estimate compared to a model which does not make use of morphology.\n",
      "While our method was trained to reproduce global SED fitted M/L, galaxy morphology gives us an important additional constraint when using one or two bands.\n",
      " \n",
      "2 Geometric and Dynamical Models of Reverberation Mapping Data  (Corrcoef: 0.46 )\n",
      "Authors:------\n",
      "[{'name': 'Anna Pancoast'}, {'name': 'Brendon J. Brewer'}, {'name': 'Tommaso Treu'}]\n",
      "Summary:------\n",
      "We present a general method to analyze reverberation mapping data that provides both estimates for the black hole mass and for the geometry and dynamics of the broad line region (BLR) in active galactic nuclei (AGN).\n",
      " \n"
     ]
    }
   ],
   "source": [
    "sims = cn.list_similar_papers(model_data, doc_id = ['simulation','sed','fitting'], \n",
    "                           input_type='keywords', \n",
    "                           return_n=3, show_authors = True, show_summary=True)"
   ]
  },
  {
   "cell_type": "code",
   "execution_count": null,
   "metadata": {},
   "outputs": [],
   "source": []
  }
 ],
 "metadata": {
  "kernelspec": {
   "display_name": "Python 3",
   "language": "python",
   "name": "python3"
  },
  "language_info": {
   "codemirror_mode": {
    "name": "ipython",
    "version": 3
   },
   "file_extension": ".py",
   "mimetype": "text/x-python",
   "name": "python",
   "nbconvert_exporter": "python",
   "pygments_lexer": "ipython3",
   "version": "3.7.3"
  }
 },
 "nbformat": 4,
 "nbformat_minor": 2
}
